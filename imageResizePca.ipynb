{
 "cells": [
  {
   "cell_type": "code",
   "execution_count": null,
   "metadata": {},
   "outputs": [
    {
     "ename": "",
     "evalue": "",
     "output_type": "error",
     "traceback": [
      "\u001b[1;31mRunning cells with 'c:\\msys64\\mingw64\\bin\\python.exe' requires the ipykernel package.\n",
      "\u001b[1;31mRun the following command to install 'ipykernel' into the Python environment. \n",
      "\u001b[1;31mCommand: 'c:/msys64/mingw64/bin/python.exe -m pip install ipykernel -U --user --force-reinstall'"
     ]
    }
   ],
   "source": [
    "import numpy as np\n",
    "import matplotlib.pyplot as plt\n",
    "import cv2\n",
    "\n",
    "\n",
    "\n",
    "\n",
    "img = cv2.imread('s.webp')\n",
    "plt.imshow(img)\n",
    "\n",
    "red,green,blue = cv2.split(img)\n",
    "\n"
   ]
  },
  {
   "cell_type": "code",
   "execution_count": null,
   "metadata": {},
   "outputs": [
    {
     "ename": "",
     "evalue": "",
     "output_type": "error",
     "traceback": [
      "\u001b[1;31mRunning cells with 'c:\\msys64\\mingw64\\bin\\python.exe' requires the ipykernel package.\n",
      "\u001b[1;31mRun the following command to install 'ipykernel' into the Python environment. \n",
      "\u001b[1;31mCommand: 'c:/msys64/mingw64/bin/python.exe -m pip install ipykernel -U --user --force-reinstall'"
     ]
    }
   ],
   "source": [
    "from sklearn.decomposition import PCA\n",
    "\n",
    "k = 50\n",
    "pca = PCA(k)\n",
    "\n",
    "\n",
    "redMatrix  =pca.fit_transform(red)\n",
    "invMatrixRed = pca.inverse_transform(redMatrix)\n",
    "\n",
    "\n",
    "greenMatrix=pca.fit_transform(green)\n",
    "invMatrixGreen = pca.inverse_transform(greenMatrix)\n",
    "\n",
    "\n",
    "blueMatrix=pca.fit_transform(blue)\n",
    "invMatrixBlue = pca.inverse_transform(blueMatrix)\n",
    "\n",
    "\n",
    "\n",
    "\n",
    "img2 = (np.dstack((invMatrixRed,invMatrixGreen,invMatrixBlue))).astype(np.uint8)\n",
    "plt.imshow(img2)\n"
   ]
  },
  {
   "cell_type": "code",
   "execution_count": null,
   "metadata": {},
   "outputs": [
    {
     "ename": "",
     "evalue": "",
     "output_type": "error",
     "traceback": [
      "\u001b[1;31mRunning cells with 'c:\\msys64\\mingw64\\bin\\python.exe' requires the ipykernel package.\n",
      "\u001b[1;31mRun the following command to install 'ipykernel' into the Python environment. \n",
      "\u001b[1;31mCommand: 'c:/msys64/mingw64/bin/python.exe -m pip install ipykernel -U --user --force-reinstall'"
     ]
    }
   ],
   "source": [
    "# img2 = cv2.merge((invMatrixRed,invMatrixGreen,invMatrixBlue))\n",
    "# cv2.imwrite('img2.jpg',img2)\n",
    "# cv2.imshow('img2',img2)\n",
    "img2 = np.zeros_like(img)\n",
    "img2[:,:,0] = invMatrixRed\n",
    "img2[:,:,1] = invMatrixGreen\n",
    "img2[:,:,2] = invMatrixBlue\n",
    "\n",
    "plt.imshow(img2)\n"
   ]
  }
 ],
 "metadata": {
  "kernelspec": {
   "display_name": "Python 3",
   "language": "python",
   "name": "python3"
  },
  "language_info": {
   "codemirror_mode": {
    "name": "ipython",
    "version": 3
   },
   "file_extension": ".py",
   "mimetype": "text/x-python",
   "name": "python",
   "nbconvert_exporter": "python",
   "pygments_lexer": "ipython3",
   "version": "3.11.1"
  },
  "orig_nbformat": 4
 },
 "nbformat": 4,
 "nbformat_minor": 2
}
