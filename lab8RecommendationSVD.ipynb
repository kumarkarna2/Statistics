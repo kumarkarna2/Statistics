{
 "cells": [
  {
   "cell_type": "code",
   "execution_count": null,
   "metadata": {},
   "outputs": [],
   "source": [
    "import numpy as np\n",
    "import pandas as pd\n",
    "\n",
    "data = pd.read_csv('dataset/Ratings.csv')\n",
    "data.head()\n",
    "data.shape\n"
   ]
  },
  {
   "cell_type": "code",
   "execution_count": null,
   "metadata": {},
   "outputs": [],
   "source": [
    "data.isna().sum()\n",
    "data.count()"
   ]
  },
  {
   "cell_type": "code",
   "execution_count": null,
   "metadata": {},
   "outputs": [],
   "source": [
    "active_users= data[['user','work']].groupby('user').count()\n",
    "active_users = active_users[active_users['work'] >= 10]\n",
    "# count number of active_users\n",
    "count = len(active_users)\n",
    "count\n",
    "# active_users\n"
   ]
  },
  {
   "cell_type": "code",
   "execution_count": null,
   "metadata": {},
   "outputs": [],
   "source": [
    "popular_books = data[['user','work']].groupby('work').count()\n",
    "popular_books = popular_books[popular_books['user'] >= 10]\n",
    "count = len(popular_books)\n",
    "count"
   ]
  },
  {
   "cell_type": "code",
   "execution_count": null,
   "metadata": {},
   "outputs": [],
   "source": [
    "new_data = data[data['user'].isin(active_users.index)& data['work'].isin(popular_books.index)]\n",
    "new_data.head()\n",
    "new_data.shape\n",
    "# new_data.index.duplicated().sum()\n"
   ]
  },
  {
   "cell_type": "code",
   "execution_count": null,
   "metadata": {},
   "outputs": [],
   "source": [
    "new_data.index.duplicated().sum()\n",
    "new_data = new_data.loc[new_data.drop_duplicates(subset='user').index]\n",
    "\n",
    "\n",
    "\n",
    "reviews = new_data.pivot(index='user', columns='work', values='star').fillna(0)\n",
    "# reviews.head()\n",
    "# new_data.index.duplicated().sum()\n",
    "matrix= reviews.values\n",
    "matrix"
   ]
  },
  {
   "cell_type": "code",
   "execution_count": null,
   "metadata": {},
   "outputs": [],
   "source": [
    "u, s, vt = np.linalg.svd(matrix)\n",
    "print(u)\n",
    "print()\n",
    "print(s)\n",
    "print()\n",
    "print(vt)"
   ]
  },
  {
   "cell_type": "code",
   "execution_count": 103,
   "metadata": {},
   "outputs": [
    {
     "name": "stdout",
     "output_type": "stream",
     "text": [
      "Book ID 33515 is most similar to Work ID 7\n"
     ]
    }
   ],
   "source": [
    "def cosine_similarity(v,u):\n",
    "    return np.dot(v,u)/(np.linalg.norm(v)*np.linalg.norm(u))\n",
    "\n",
    "highest_similarity = -np.inf\n",
    "highest_similar_column = -1\n",
    "for col in range(1, vt.shape[1]):\n",
    "    similarity = cosine_similarity(vt[:,0], vt[:,col])\n",
    "    if similarity > highest_similarity:\n",
    "        highest_similarity = similarity\n",
    "        highest_similar_column = col\n",
    "\n",
    "print(\"Book ID %d is most similar to Work ID %d\" % (reviews.columns[col], reviews.columns[0]))"
   ]
  }
 ],
 "metadata": {
  "kernelspec": {
   "display_name": "Python 3",
   "language": "python",
   "name": "python3"
  },
  "language_info": {
   "codemirror_mode": {
    "name": "ipython",
    "version": 3
   },
   "file_extension": ".py",
   "mimetype": "text/x-python",
   "name": "python",
   "nbconvert_exporter": "python",
   "pygments_lexer": "ipython3",
   "version": "3.11.1"
  },
  "orig_nbformat": 4
 },
 "nbformat": 4,
 "nbformat_minor": 2
}
