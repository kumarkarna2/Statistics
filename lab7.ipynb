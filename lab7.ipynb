{
 "cells": [
  {
   "cell_type": "code",
   "execution_count": 9,
   "metadata": {},
   "outputs": [
    {
     "name": "stdout",
     "output_type": "stream",
     "text": [
      "A:\n",
      " [[ 3  1  1]\n",
      " [-1  3  1]]\n",
      "U:\n",
      " [[-0.70710678 -0.70710678]\n",
      " [-0.70710678  0.70710678]]\n",
      "sigma:\n",
      " [[3.46410162 0.         0.        ]\n",
      " [0.         3.16227766 0.        ]]\n",
      "Vt:\n",
      " [[-4.08248290e-01 -8.16496581e-01 -4.08248290e-01]\n",
      " [-8.94427191e-01  4.47213595e-01  5.26260748e-16]\n",
      " [-1.82574186e-01 -3.65148372e-01  9.12870929e-01]]\n",
      "B:\n",
      " [[ 3.  1.  1.]\n",
      " [-1.  3.  1.]]\n",
      "A_t:\n",
      " [[ 3.  1.  1.]\n",
      " [-1.  3.  1.]]\n"
     ]
    }
   ],
   "source": [
    "import numpy as np\n",
    "\n",
    "# Define matrix A\n",
    "A = np.array([[3,1,1],[-1,3,1]])\n",
    "\n",
    "# Perform SVD\n",
    "U, s, Vt = np.linalg.svd(A)\n",
    "\n",
    "# Recombine matrices\n",
    "sigma = np.zeros((A.shape[0], A.shape[1]))\n",
    "sigma[:A.shape[1], :A.shape[0]] = np.diag(s)\n",
    "\n",
    "B = U.dot(sigma.dot(Vt))\n",
    "\n",
    "# Print matrices and vectors\n",
    "print(\"A:\\n\", A)\n",
    "print(\"U:\\n\", U)\n",
    "print(\"sigma:\\n\", sigma)\n",
    "print(\"Vt:\\n\", Vt)\n",
    "print(\"B:\\n\", B)\n",
    "\n",
    "# Transform A into Ὰ by selecting the first two features\n",
    "A_t = U[:, :2].dot(sigma[:2, :2].dot(Vt[:2, :]))\n",
    "\n",
    "# Print transformed matrix\n",
    "print(\"A_t:\\n\", A_t)\n"
   ]
  }
 ],
 "metadata": {
  "kernelspec": {
   "display_name": "Python 3",
   "language": "python",
   "name": "python3"
  },
  "language_info": {
   "codemirror_mode": {
    "name": "ipython",
    "version": 3
   },
   "file_extension": ".py",
   "mimetype": "text/x-python",
   "name": "python",
   "nbconvert_exporter": "python",
   "pygments_lexer": "ipython3",
   "version": "3.11.1"
  },
  "orig_nbformat": 4
 },
 "nbformat": 4,
 "nbformat_minor": 2
}
